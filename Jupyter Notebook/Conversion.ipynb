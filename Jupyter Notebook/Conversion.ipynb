{
 "cells": [
  {
   "cell_type": "code",
   "execution_count": 1,
   "metadata": {},
   "outputs": [],
   "source": [
    "import pandas as pd\n",
    "\n",
    "from tools import data as d"
   ]
  },
  {
   "cell_type": "code",
   "execution_count": 2,
   "metadata": {},
   "outputs": [],
   "source": [
    "pd.set_option('display.max_rows', None)\n",
    "pd.set_option('display.max_columns', None)\n",
    "pd.set_option('display.width', None)\n",
    "pd.set_option('display.max_colwidth', None)"
   ]
  },
  {
   "cell_type": "markdown",
   "metadata": {},
   "source": [
    "### Exploring Values—Converted to Fraction and Integer"
   ]
  },
  {
   "cell_type": "code",
   "execution_count": 3,
   "metadata": {},
   "outputs": [
    {
     "name": "stdout",
     "output_type": "stream",
     "text": [
      "---\n",
      "3cff\n",
      "15615\n"
     ]
    },
    {
     "data": {
      "text/plain": [
       "15.62"
      ]
     },
     "metadata": {},
     "output_type": "display_data"
    }
   ],
   "source": [
    "testValue = '3CFF'\n",
    "display(round(d.getInt(val=testValue) / 1000, 2))"
   ]
  },
  {
   "cell_type": "code",
   "execution_count": 4,
   "metadata": {},
   "outputs": [
    {
     "name": "stdout",
     "output_type": "stream",
     "text": [
      "---\n",
      "ff3c\n",
      "65340\n"
     ]
    },
    {
     "data": {
      "text/plain": [
       "65.34"
      ]
     },
     "metadata": {},
     "output_type": "display_data"
    }
   ],
   "source": [
    "testValue = '3CFF'\n",
    "display(round(d.getIntLE(testValue) / 1000, 2))"
   ]
  },
  {
   "cell_type": "code",
   "execution_count": 5,
   "metadata": {},
   "outputs": [
    {
     "name": "stdout",
     "output_type": "stream",
     "text": [
      "---\n",
      "f7\n",
      "247\n"
     ]
    },
    {
     "data": {
      "text/plain": [
       "247"
      ]
     },
     "metadata": {},
     "output_type": "display_data"
    }
   ],
   "source": [
    "testValue = 'f7'\n",
    "display(round(d.getInt(testValue), 2))"
   ]
  },
  {
   "cell_type": "code",
   "execution_count": 6,
   "metadata": {},
   "outputs": [
    {
     "name": "stdout",
     "output_type": "stream",
     "text": [
      "---\n",
      "f7\n",
      "247\n"
     ]
    },
    {
     "data": {
      "text/plain": [
       "247"
      ]
     },
     "metadata": {},
     "output_type": "display_data"
    }
   ],
   "source": [
    "testValue = 'f7'\n",
    "display(round(d.getIntLE(testValue), 2))"
   ]
  },
  {
   "cell_type": "code",
   "execution_count": 7,
   "metadata": {},
   "outputs": [
    {
     "name": "stdout",
     "output_type": "stream",
     "text": [
      "---\n",
      "0f\n",
      "15\n"
     ]
    },
    {
     "data": {
      "text/plain": [
       "15"
      ]
     },
     "metadata": {},
     "output_type": "display_data"
    },
    {
     "name": "stdout",
     "output_type": "stream",
     "text": [
      "0 0 0 0 1 1 1 1\n"
     ]
    }
   ],
   "source": [
    "testHexValue = '0f'\n",
    "testIntValue = d.getIntLE(testHexValue)\n",
    "display(testIntValue)\n",
    "print(\n",
    "    1 if testIntValue & (1 << 7) > 0 else 0,\n",
    "    1 if testIntValue & (1 << 6) > 0 else 0,\n",
    "    1 if testIntValue & (1 << 5) > 0 else 0,\n",
    "    1 if testIntValue & (1 << 4) > 0 else 0,\n",
    "    1 if testIntValue & (1 << 3) > 0 else 0,\n",
    "    1 if testIntValue & (1 << 2) > 0 else 0,\n",
    "    1 if testIntValue & (1 << 1) > 0 else 0,\n",
    "    1 if testIntValue & (1 << 0) > 0 else 0\n",
    ")"
   ]
  },
  {
   "cell_type": "code",
   "execution_count": null,
   "metadata": {},
   "outputs": [],
   "source": []
  }
 ],
 "metadata": {
  "kernelspec": {
   "display_name": "Python 3",
   "language": "python",
   "name": "python3"
  },
  "language_info": {
   "codemirror_mode": {
    "name": "ipython",
    "version": 3
   },
   "file_extension": ".py",
   "mimetype": "text/x-python",
   "name": "python",
   "nbconvert_exporter": "python",
   "pygments_lexer": "ipython3",
   "version": "3.7.7"
  }
 },
 "nbformat": 4,
 "nbformat_minor": 4
}
